{
 "cells": [
  {
   "cell_type": "markdown",
   "metadata": {},
   "source": [
    "# Import pakcages"
   ]
  },
  {
   "cell_type": "code",
   "execution_count": null,
   "metadata": {},
   "outputs": [],
   "source": [
    "import pandas as pd\n",
    "import numpy as np\n",
    "from sklearn.model_selection import train_test_split\n",
    "from sklearn.neighbors import KNeighborsRegressor\n",
    "from sklearn.preprocessing import StandardScaler\n",
    "from sklearn.metrics import mean_squared_error\n",
    "import matplotlib.pyplot as plt"
   ]
  },
  {
   "cell_type": "markdown",
   "metadata": {},
   "source": [
    "# Read data and selects featuers, and splits data"
   ]
  },
  {
   "cell_type": "code",
   "execution_count": null,
   "metadata": {},
   "outputs": [],
   "source": [
    "df = pd.read_csv('/data/preproessed_collected_dataset_flood.csv')\n",
    "\n",
    "\n",
    "df['Year'] = df['DATE'].apply(lambda x: x // 10000)\n",
    "df = df.groupby(['LONGITUDE', 'LATITUDE', 'Year']).apply(lambda x: x.sample(frac=0.01))\n",
    "\n",
    "\n",
    "dummies = pd.get_dummies(df, columns=['FLD_ZONE', 'CATEGORY', 'STATE'])\n",
    "\n",
    "\n",
    "\n",
    "feature_names=['Elevation', 'Wind_f', 'Evap', 'Tair_f', 'Qair_f', 'Psurf_f',\n",
    "               'Streamflow', 'SoilMoist100_200cm', 'SoilTemp100_200cm', 'LC_Type2',\n",
    "               'FLD_ELEV', 'Qsb', 'CFLD_RISKS',\n",
    "               'RFLD_RISKS', 'HRCN_RISKS', 'Rainf_f_MA30',\n",
    "               'FLD_ZONE_A', 'FLD_ZONE_AE', 'FLD_ZONE_AH', 'FLD_ZONE_AO',\n",
    "               'FLD_ZONE_Nan', 'FLD_ZONE_VE', 'FLD_ZONE_X',\n",
    "               'FLD_ZONE_X PROTECTED BY LEVEE']\n",
    "\n",
    "X = dummies[feature_names]\n",
    "\n",
    "y = dummies['FloodedFrac']\n",
    "\n",
    "# 80% Traning 10% Testing  10% Valitation Split \n",
    "X_train, X_temp, y_train, y_temp = train_test_split(X, y, test_size=0.2, random_state=10)\n",
    "X_val, X_test, y_val, y_test = train_test_split(X_temp, y_temp, test_size=0.5, random_state=10)"
   ]
  },
  {
   "cell_type": "markdown",
   "metadata": {},
   "source": [
    "# Elbow graph to find optimal k"
   ]
  },
  {
   "cell_type": "code",
   "execution_count": null,
   "metadata": {},
   "outputs": [],
   "source": [
    "k_values = range(1, 21)\n",
    "\n",
    "# Lists to store MSE values for different K values\n",
    "mse_values_val = []  # MSE values for validation set\n",
    "mse_values_test = []  # MSE values for test set\n",
    "\n",
    "for k in k_values:\n",
    "    print(k)\n",
    "    # Initialize the KNN regressor with the current K value\n",
    "    reg = KNeighborsRegressor(n_neighbors=k)\n",
    "    \n",
    "    # Fit the model on the training set\n",
    "    reg.fit(X_train, y_train)\n",
    "    \n",
    "    # Predict on the validation set\n",
    "    y_val_pred = reg.predict(X_val)\n",
    "    \n",
    "    # Calculate mean squared error on validation set and store it\n",
    "    mse_val = mean_squared_error(y_val, y_val_pred)\n",
    "    mse_values_val.append(mse_val)\n",
    "    \n",
    "    # Predict on the test set\n",
    "    y_test_pred = reg.predict(X_test)\n",
    "    \n",
    "    # Calculate mean squared error on test set and store it\n",
    "    mse_test = mean_squared_error(y_test, y_test_pred)\n",
    "    mse_values_test.append(mse_test)\n",
    "\n",
    "# Plotting the elbow curves\n",
    "plt.figure(figsize=(8, 6))\n",
    "\n",
    "# Plot for validation set MSE\n",
    "plt.plot(k_values, mse_values_val, marker='o', linestyle='-', color='b', label='Validation Set')\n",
    "\n",
    "# Plot for test set MSE\n",
    "plt.plot(k_values, mse_values_test, marker='o', linestyle='-', color='r', label='Test Set')\n",
    "\n",
    "plt.xlabel('Number of Neighbors (K)')\n",
    "plt.ylabel('Mean Squared Error (MSE)')\n",
    "plt.xticks(k_values)\n",
    "plt.grid(True)\n",
    "plt.legend()\n",
    "plt.show()"
   ]
  },
  {
   "cell_type": "markdown",
   "metadata": {},
   "source": [
    "# Set Parameter for KNN"
   ]
  },
  {
   "cell_type": "code",
   "execution_count": null,
   "metadata": {},
   "outputs": [],
   "source": [
    "params = {\n",
    "    'n_neighbors': 4,\n",
    "    'weights': 'distance',\n",
    "    'p': 1,  # For Minkowski distance (1 for Manhattan, 2 for Euclidean)\n",
    "    'algorithm': 'auto',\n",
    "}\n",
    "\n",
    "reg = KNeighborsRegressor(**params)"
   ]
  },
  {
   "cell_type": "markdown",
   "metadata": {},
   "source": [
    "# Train KNN"
   ]
  },
  {
   "cell_type": "code",
   "execution_count": null,
   "metadata": {},
   "outputs": [],
   "source": [
    "scaler = StandardScaler()\n",
    "X_train_scaled = scaler.fit_transform(X_train)\n",
    "X_val_scaled = scaler.transform(X_val)\n",
    "X_test_scaled = scaler.transform(X_test)\n",
    "\n",
    "\n",
    "reg.fit(X_train_scaled, y_train)"
   ]
  },
  {
   "cell_type": "markdown",
   "metadata": {},
   "source": [
    "# Get MSE and RMSE"
   ]
  },
  {
   "cell_type": "code",
   "execution_count": null,
   "metadata": {},
   "outputs": [],
   "source": [
    "knn_train_pred = reg.predict(X_train_scaled)\n",
    "knn_val_pred = reg.predict(X_val_scaled)\n",
    "knn_test_pred = reg.predict(X_test_scaled)\n",
    "\n",
    "\n",
    "knn_val_mse = mean_squared_error(y_val, knn_val_pred)\n",
    "knn_test_mse = mean_squared_error(y_test, knn_test_pred)\n",
    "\n",
    "knn_val_rmse = np.sqrt(knn_val_mse)\n",
    "knn_test_rmse = np.sqrt(knn_test_mse)\n",
    "\n",
    "\n",
    "print(\"Validation MSE:\", knn_val_mse)\n",
    "print(\"Test MSE:\", knn_test_mse)\n",
    "\n",
    "print(\"Validation RMSE:\", knn_val_rmse)\n",
    "print(\"Test RMSE:\", knn_test_rmse)"
   ]
  },
  {
   "cell_type": "markdown",
   "metadata": {},
   "source": [
    "# Create Scatter Plot for actual y vs predicted y"
   ]
  },
  {
   "cell_type": "code",
   "execution_count": null,
   "metadata": {},
   "outputs": [],
   "source": [
    "plt.scatter(y_test, knn_test_pred, alpha=0.6, color='blue', edgecolors='w')\n",
    "\n",
    "plt.xlabel(\"Actual y values\")\n",
    "plt.ylabel(\"Predicted y values\")\n",
    "plt.title('KNN - Actual vs Predicted')\n",
    "\n",
    "ax = plt.gca()\n",
    "ax.set_aspect('equal')\n",
    "\n",
    "# Set the limits for better visualization\n",
    "lims = [\n",
    "    np.min([y_test.min(), knn_test_pred.min()]),\n",
    "    np.max([y_test.max(), knn_test_pred.max()])\n",
    "]\n",
    "plt.xlim(lims)\n",
    "plt.ylim(lims)\n",
    "\n",
    "# Plot the 45-degree line\n",
    "plt.plot(lims, lims, 'k-', alpha=0.75, zorder=0)\n",
    "\n",
    "plt.grid(True)\n",
    "plt.show()\n",
    "plt.clf()  # Clear the current figure window"
   ]
  }
 ],
 "metadata": {
  "language_info": {
   "name": "python"
  }
 },
 "nbformat": 4,
 "nbformat_minor": 2
}
