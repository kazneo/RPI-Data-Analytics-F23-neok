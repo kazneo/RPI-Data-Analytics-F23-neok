{
 "cells": [
  {
   "cell_type": "markdown",
   "metadata": {},
   "source": [
    "# Import pacages"
   ]
  },
  {
   "cell_type": "code",
   "execution_count": null,
   "metadata": {},
   "outputs": [],
   "source": [
    "import pandas as pd\n",
    "import numpy as np\n",
    "from sklearn.model_selection import train_test_split\n",
    "from sklearn.neighbors import KNeighborsRegressor\n",
    "from sklearn.preprocessing import StandardScaler\n",
    "from sklearn.metrics import mean_squared_error\n",
    "from sklearn.ensemble import RandomForestRegressor\n",
    "import matplotlib.pyplot as plt"
   ]
  },
  {
   "cell_type": "markdown",
   "metadata": {},
   "source": [
    "# Read data and selects featuers, and splits data"
   ]
  },
  {
   "cell_type": "code",
   "execution_count": null,
   "metadata": {},
   "outputs": [],
   "source": [
    "df = pd.read_csv('/data/preproessed_collected_dataset_flood.csv')\n",
    "\n",
    "\n",
    "df['Year'] = df['DATE'].apply(lambda x: x // 10000)\n",
    "df = df.groupby(['LONGITUDE', 'LATITUDE', 'Year']).apply(lambda x: x.sample(frac=0.01))\n",
    "\n",
    "\n",
    "dummies = pd.get_dummies(df, columns=['FLD_ZONE', 'CATEGORY', 'STATE'])\n",
    "\n",
    "\n",
    "\n",
    "feature_names=['Elevation', 'Wind_f', 'Evap', 'Tair_f', 'Qair_f', 'Psurf_f',\n",
    "               'Streamflow', 'SoilMoist100_200cm', 'SoilTemp100_200cm', 'LC_Type2',\n",
    "               'FLD_ELEV', 'Qsb', 'CFLD_RISKS',\n",
    "               'RFLD_RISKS', 'HRCN_RISKS', 'Rainf_f_MA30',\n",
    "               'FLD_ZONE_A', 'FLD_ZONE_AE', 'FLD_ZONE_AH', 'FLD_ZONE_AO',\n",
    "               'FLD_ZONE_Nan', 'FLD_ZONE_VE', 'FLD_ZONE_X',\n",
    "               'FLD_ZONE_X PROTECTED BY LEVEE']\n",
    "\n",
    "X = dummies[feature_names]\n",
    "\n",
    "y = dummies['FloodedFrac']\n",
    "\n",
    "# 80% Traning 10% Testing  10% Valitation Split \n",
    "X_train, X_temp, y_train, y_temp = train_test_split(X, y, test_size=0.2, random_state=10)\n",
    "X_val, X_test, y_val, y_test = train_test_split(X_temp, y_temp, test_size=0.5, random_state=10)"
   ]
  },
  {
   "cell_type": "markdown",
   "metadata": {},
   "source": [
    "# Set Parameter and train model"
   ]
  },
  {
   "cell_type": "code",
   "execution_count": null,
   "metadata": {},
   "outputs": [],
   "source": [
    "# Random Forest Parameters\n",
    "params = {\n",
    "    \"n_estimators\": 500,\n",
    "    \"max_features\": 8,\n",
    "    \"max_depth\": 15,\n",
    "    \"min_samples_split\": 2,\n",
    "    \"warm_start\":True,\n",
    "    \"oob_score\":True,\n",
    "    \"random_state\": 42,\n",
    "    \"verbose\" : 1,\n",
    "    \"n_jobs\" : -1,\n",
    "}\n",
    "\n",
    "reg = RandomForestRegressor(**params)\n",
    "scaler = StandardScaler()\n",
    "\n",
    "X_train_scaled = scaler.fit_transform(X_train)\n",
    "X_val_scaled = scaler.transform(X_val)\n",
    "X_test_scaled = scaler.transform(X_test)\n",
    "\n",
    "reg.fit(X_train, y_train)"
   ]
  },
  {
   "cell_type": "markdown",
   "metadata": {},
   "source": [
    "# Calculate MSE and RMSE"
   ]
  },
  {
   "cell_type": "code",
   "execution_count": null,
   "metadata": {},
   "outputs": [],
   "source": [
    "rf_train_pred = reg.predict(X_train_scaled)\n",
    "rf_val_pred = reg.predict(X_val_scaled)\n",
    "rf_test_pred = reg.predict(X_test_scaled)\n",
    "\n",
    "\n",
    "rf_val_mse = mean_squared_error(y_val, rf_val_pred)\n",
    "rf_test_mse = mean_squared_error(y_test, rf_test_pred)\n",
    "\n",
    "rf_val_rmse = np.sqrt(rf_val_mse)\n",
    "rf_test_rmse = np.sqrt(rf_test_mse)\n",
    "\n",
    "print(\"Validation MSE:\", rf_val_mse)\n",
    "print(\"Test MSE:\", rf_test_mse)\n",
    "\n",
    "print(\"Validation RMSE:\", rf_val_rmse)\n",
    "print(\"Test RMSE:\", rf_test_rmse)"
   ]
  },
  {
   "cell_type": "markdown",
   "metadata": {},
   "source": [
    "# Create scatterplot for acutal y value vs predicted y"
   ]
  },
  {
   "cell_type": "code",
   "execution_count": null,
   "metadata": {},
   "outputs": [],
   "source": [
    "plt.scatter(y_test, rf_test_pred, alpha=0.6, color='blue', edgecolors='w')\n",
    "\n",
    "plt.xlabel(\"Actual y values\")\n",
    "plt.ylabel(\"Predicted y values\")\n",
    "plt.title('RF - Actual vs Predicted')\n",
    "\n",
    "# Ensure the plot axis is square\n",
    "ax = plt.gca()\n",
    "ax.set_aspect('equal')\n",
    "\n",
    "# Set the limits for better visualization\n",
    "lims = [\n",
    "    np.min([y_test.min(), rf_test_pred.min()]),\n",
    "    np.max([y_test.max(), rf_test_pred.max()])\n",
    "]\n",
    "plt.xlim(lims)\n",
    "plt.ylim(lims)\n",
    "\n",
    "# Plot the 45-degree line\n",
    "plt.plot(lims, lims, 'k-', alpha=0.75, zorder=0)\n",
    "\n",
    "plt.grid(True)\n",
    "plt.show()\n",
    "plt.clf()  # Clear the current figure window"
   ]
  },
  {
   "cell_type": "markdown",
   "metadata": {},
   "source": [
    "# Importance chart"
   ]
  },
  {
   "cell_type": "code",
   "execution_count": null,
   "metadata": {},
   "outputs": [],
   "source": [
    "# obtain feature importance\n",
    "feature_importance = reg.feature_importances_\n",
    "\n",
    "sorted_idx = np.argsort(feature_importance)[::-1]\n",
    "pos = np.arange(sorted_idx.shape[0])\n",
    "\n",
    "plt.figure(figsize=(10, 8)) \n",
    "\n",
    "# Plot feature importances with increased spacing between bars\n",
    "plt.barh(pos, feature_importance[sorted_idx], align=\"center\")\n",
    "\n",
    "# Increase spacing between bars by changing the step size on the y-axis\n",
    "plt.yticks(pos, np.array(feature_names)[sorted_idx])\n",
    "plt.title(\"Feature Importance (MDI)\")\n",
    "plt.xlabel(\"Mean decrease in impurity\")\n",
    "plt.tight_layout()\n",
    "plt.show()"
   ]
  }
 ],
 "metadata": {
  "language_info": {
   "name": "python"
  }
 },
 "nbformat": 4,
 "nbformat_minor": 2
}
